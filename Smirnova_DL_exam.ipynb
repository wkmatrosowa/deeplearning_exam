{
  "nbformat": 4,
  "nbformat_minor": 0,
  "metadata": {
    "colab": {
      "name": "Smirnova_DL_exam.ipynb",
      "provenance": [],
      "collapsed_sections": [],
      "toc_visible": true,
      "mount_file_id": "1gXPMmFkLnwlgK0YA2ZTjbNC1Ydt5DDmk",
      "authorship_tag": "ABX9TyNG4QH36LK+Vf/CoL4aDtCO",
      "include_colab_link": true
    },
    "kernelspec": {
      "name": "python3",
      "display_name": "Python 3"
    },
    "accelerator": "GPU"
  },
  "cells": [
    {
      "cell_type": "markdown",
      "metadata": {
        "id": "view-in-github",
        "colab_type": "text"
      },
      "source": [
        "<a href=\"https://colab.research.google.com/github/wksmirnowa/deeplearning_exam/blob/master/Smirnova_DL_exam.ipynb\" target=\"_parent\"><img src=\"https://colab.research.google.com/assets/colab-badge.svg\" alt=\"Open In Colab\"/></a>"
      ]
    },
    {
      "cell_type": "markdown",
      "metadata": {
        "id": "hoZ1PaY0OVBh"
      },
      "source": [
        "# NER"
      ]
    },
    {
      "cell_type": "markdown",
      "metadata": {
        "id": "EfC3xDkzKjhp"
      },
      "source": [
        "## Импорты"
      ]
    },
    {
      "cell_type": "code",
      "metadata": {
        "id": "O-L29F9IIsxu"
      },
      "source": [
        "import torch\n",
        "import codecs\n",
        "import zipfile\n",
        "\n",
        "import numpy as np\n",
        "import pandas as pd\n",
        "import matplotlib.pyplot as plt\n",
        "\n",
        "from collections import OrderedDict\n",
        "from torch import nn\n",
        "from torch.utils.data import Dataset, DataLoader\n",
        "from torch.optim.lr_scheduler import StepLR\n",
        "from sklearn.metrics import f1_score, classification_report\n",
        "from tqdm import tqdm"
      ],
      "execution_count": 115,
      "outputs": []
    },
    {
      "cell_type": "markdown",
      "metadata": {
        "id": "FqqbGszd6c4v"
      },
      "source": [
        "## Данные"
      ]
    },
    {
      "cell_type": "markdown",
      "metadata": {
        "id": "zDR6tKhFK4VS"
      },
      "source": [
        "Загрузим данные"
      ]
    },
    {
      "cell_type": "code",
      "metadata": {
        "id": "IgMb1DMhfOLK"
      },
      "source": [
        "def load_data(path):\n",
        "\n",
        "  sentences = []\n",
        "  sentence = []\n",
        "  for line in codecs.open(path, 'r', 'utf8'):\n",
        "    line = line.rstrip()\n",
        "    if not line:\n",
        "      if len(sentence) > 0:\n",
        "        if 'DOCSTART' not in sentence[0][0]:\n",
        "          sentences.append(sentence)\n",
        "        sentence = []\n",
        "    else:\n",
        "      word = line.split()\n",
        "      assert len(word) >= 2\n",
        "      sentence.append(word)\n",
        "  if len(sentence) > 0:\n",
        "    if 'DOCSTART' not in sentence[0][0]:\n",
        "      sentences.append(sentence)\n",
        "  return sentences"
      ],
      "execution_count": 116,
      "outputs": []
    },
    {
      "cell_type": "code",
      "metadata": {
        "id": "-yBbky3Sgd6a"
      },
      "source": [
        "train_data = load_data('/content/drive/MyDrive/dl_exam/conllpp_train.txt')\n",
        "test_data = load_data('/content/drive/MyDrive/dl_exam/conllpp_test.txt')"
      ],
      "execution_count": 117,
      "outputs": []
    },
    {
      "cell_type": "markdown",
      "metadata": {
        "id": "DWKx0KUshHsQ"
      },
      "source": [
        "Посмотрим на даные"
      ]
    },
    {
      "cell_type": "code",
      "metadata": {
        "colab": {
          "base_uri": "https://localhost:8080/"
        },
        "id": "_mQ7n3FEglls",
        "outputId": "5d667c10-2335-452b-a239-d4ef16e1062e"
      },
      "source": [
        "train_data[0]"
      ],
      "execution_count": null,
      "outputs": [
        {
          "output_type": "execute_result",
          "data": {
            "text/plain": [
              "[['EU', 'NNP', 'B-NP', 'B-ORG'],\n",
              " ['rejects', 'VBZ', 'B-VP', 'O'],\n",
              " ['German', 'JJ', 'B-NP', 'B-MISC'],\n",
              " ['call', 'NN', 'I-NP', 'O'],\n",
              " ['to', 'TO', 'B-VP', 'O'],\n",
              " ['boycott', 'VB', 'I-VP', 'O'],\n",
              " ['British', 'JJ', 'B-NP', 'B-MISC'],\n",
              " ['lamb', 'NN', 'I-NP', 'O'],\n",
              " ['.', '.', 'O', 'O']]"
            ]
          },
          "metadata": {
            "tags": []
          },
          "execution_count": 217
        }
      ]
    },
    {
      "cell_type": "code",
      "metadata": {
        "colab": {
          "base_uri": "https://localhost:8080/"
        },
        "id": "rKjXNaSmgxhn",
        "outputId": "5d04fb09-b8e6-45a7-daeb-ce8af0fd4419"
      },
      "source": [
        "test_data[0]"
      ],
      "execution_count": null,
      "outputs": [
        {
          "output_type": "execute_result",
          "data": {
            "text/plain": [
              "[['SOCCER', 'NN', 'I-NP', 'O'],\n",
              " ['-', ':', 'O', 'O'],\n",
              " ['JAPAN', 'NNP', 'I-NP', 'B-LOC'],\n",
              " ['GET', 'VB', 'I-VP', 'O'],\n",
              " ['LUCKY', 'NNP', 'I-NP', 'O'],\n",
              " ['WIN', 'NNP', 'I-NP', 'O'],\n",
              " [',', ',', 'O', 'O'],\n",
              " ['CHINA', 'NNP', 'I-NP', 'B-LOC'],\n",
              " ['IN', 'IN', 'I-PP', 'O'],\n",
              " ['SURPRISE', 'DT', 'I-NP', 'O'],\n",
              " ['DEFEAT', 'NN', 'I-NP', 'O'],\n",
              " ['.', '.', 'O', 'O']]"
            ]
          },
          "metadata": {
            "tags": []
          },
          "execution_count": 218
        }
      ]
    },
    {
      "cell_type": "code",
      "metadata": {
        "colab": {
          "base_uri": "https://localhost:8080/"
        },
        "id": "Yy_LuiV8gziF",
        "outputId": "e5bafffb-92f3-431b-a4f9-001b83036e26"
      },
      "source": [
        "len(train_data), len(test_data)"
      ],
      "execution_count": null,
      "outputs": [
        {
          "output_type": "execute_result",
          "data": {
            "text/plain": [
              "(14041, 3453)"
            ]
          },
          "metadata": {
            "tags": []
          },
          "execution_count": 219
        }
      ]
    },
    {
      "cell_type": "markdown",
      "metadata": {
        "id": "3SoCL7-NONlx"
      },
      "source": [
        "Подготовим данные для работы с ними"
      ]
    },
    {
      "cell_type": "code",
      "metadata": {
        "id": "10tSw4E3hWq7"
      },
      "source": [
        "def get_sentences_and_tags(data: list):\n",
        "\n",
        "  words_sequences = []\n",
        "  tags_sequences = []\n",
        "  for tokens in data:\n",
        "    words = [el[0].lower() for el in tokens]\n",
        "    tags = [el[3] for el in tokens]\n",
        "    words_sequences.append(words)\n",
        "    tags_sequences.append(tags)\n",
        "  return words_sequences, tags_sequences"
      ],
      "execution_count": 118,
      "outputs": []
    },
    {
      "cell_type": "code",
      "metadata": {
        "id": "qsYt5hs3h_Jm"
      },
      "source": [
        "train_sentences, train_tags = get_sentences_and_tags(train_data)\n",
        "test_sentences, test_tags = get_sentences_and_tags(test_data)"
      ],
      "execution_count": 119,
      "outputs": []
    },
    {
      "cell_type": "code",
      "metadata": {
        "colab": {
          "base_uri": "https://localhost:8080/"
        },
        "id": "6pZsON_biN_4",
        "outputId": "a2497a50-6f54-41c0-e17f-a2ce66cc83c1"
      },
      "source": [
        "train_sentences[:3]"
      ],
      "execution_count": null,
      "outputs": [
        {
          "output_type": "execute_result",
          "data": {
            "text/plain": [
              "[['eu', 'rejects', 'german', 'call', 'to', 'boycott', 'british', 'lamb', '.'],\n",
              " ['peter', 'blackburn'],\n",
              " ['brussels', '1996-08-22']]"
            ]
          },
          "metadata": {
            "tags": []
          },
          "execution_count": 6
        }
      ]
    },
    {
      "cell_type": "code",
      "metadata": {
        "colab": {
          "base_uri": "https://localhost:8080/"
        },
        "id": "esP0GgdqiSkf",
        "outputId": "4a3acd23-712e-4496-9a64-6fbf354cac32"
      },
      "source": [
        "test_sentences[:3]"
      ],
      "execution_count": null,
      "outputs": [
        {
          "output_type": "execute_result",
          "data": {
            "text/plain": [
              "[['soccer',\n",
              "  '-',\n",
              "  'japan',\n",
              "  'get',\n",
              "  'lucky',\n",
              "  'win',\n",
              "  ',',\n",
              "  'china',\n",
              "  'in',\n",
              "  'surprise',\n",
              "  'defeat',\n",
              "  '.'],\n",
              " ['nadim', 'ladki'],\n",
              " ['al-ain', ',', 'united', 'arab', 'emirates', '1996-12-06']]"
            ]
          },
          "metadata": {
            "tags": []
          },
          "execution_count": 7
        }
      ]
    },
    {
      "cell_type": "code",
      "metadata": {
        "colab": {
          "base_uri": "https://localhost:8080/"
        },
        "id": "a8WxI8RaiVmP",
        "outputId": "58771076-92a3-437d-8b34-71b8a4c647cf"
      },
      "source": [
        "train_tags[:3]"
      ],
      "execution_count": null,
      "outputs": [
        {
          "output_type": "execute_result",
          "data": {
            "text/plain": [
              "[['B-ORG', 'O', 'B-MISC', 'O', 'O', 'O', 'B-MISC', 'O', 'O'],\n",
              " ['B-PER', 'I-PER'],\n",
              " ['B-LOC', 'O']]"
            ]
          },
          "metadata": {
            "tags": []
          },
          "execution_count": 224
        }
      ]
    },
    {
      "cell_type": "code",
      "metadata": {
        "colab": {
          "base_uri": "https://localhost:8080/"
        },
        "id": "T1L-mHlriVFR",
        "outputId": "a24c204c-e6ee-4919-931b-43d16aef9e58"
      },
      "source": [
        "test_tags[:3]"
      ],
      "execution_count": null,
      "outputs": [
        {
          "output_type": "execute_result",
          "data": {
            "text/plain": [
              "[['O', 'O', 'B-LOC', 'O', 'O', 'O', 'O', 'B-LOC', 'O', 'O', 'O', 'O'],\n",
              " ['B-PER', 'I-PER'],\n",
              " ['B-LOC', 'O', 'B-LOC', 'I-LOC', 'I-LOC', 'O']]"
            ]
          },
          "metadata": {
            "tags": []
          },
          "execution_count": 225
        }
      ]
    },
    {
      "cell_type": "code",
      "metadata": {
        "colab": {
          "base_uri": "https://localhost:8080/"
        },
        "id": "eIrLeUkvLIQb",
        "outputId": "9b9f1885-b74d-46fd-8f51-50c339035776"
      },
      "source": [
        "len(train_sentences), len(train_tags), len(test_sentences), len(test_tags)"
      ],
      "execution_count": null,
      "outputs": [
        {
          "output_type": "execute_result",
          "data": {
            "text/plain": [
              "(14041, 14041, 3453, 3453)"
            ]
          },
          "metadata": {
            "tags": []
          },
          "execution_count": 135
        }
      ]
    },
    {
      "cell_type": "markdown",
      "metadata": {
        "id": "CugMnhIPVzDx"
      },
      "source": [
        "Чтобы подобрать длину, до которой будем обрезать и паддить последовательности токенов, изучим, какие длины последовательностей вообще есть в данных."
      ]
    },
    {
      "cell_type": "code",
      "metadata": {
        "colab": {
          "base_uri": "https://localhost:8080/"
        },
        "id": "Ql4xUGPVL5aA",
        "outputId": "74cf2656-4624-41bb-da53-2060eaa8e988"
      },
      "source": [
        "np.mean([len(x) for x in train_sentences])"
      ],
      "execution_count": null,
      "outputs": [
        {
          "output_type": "execute_result",
          "data": {
            "text/plain": [
              "14.501887329962253"
            ]
          },
          "metadata": {
            "tags": []
          },
          "execution_count": 8
        }
      ]
    },
    {
      "cell_type": "code",
      "metadata": {
        "colab": {
          "base_uri": "https://localhost:8080/"
        },
        "id": "EfmPf8vfMqTg",
        "outputId": "f68d2b1d-eb9d-4d10-b1db-045080c88675"
      },
      "source": [
        "np.max([len(x) for x in train_sentences])"
      ],
      "execution_count": null,
      "outputs": [
        {
          "output_type": "execute_result",
          "data": {
            "text/plain": [
              "113"
            ]
          },
          "metadata": {
            "tags": []
          },
          "execution_count": 229
        }
      ]
    },
    {
      "cell_type": "code",
      "metadata": {
        "colab": {
          "base_uri": "https://localhost:8080/",
          "height": 336
        },
        "id": "t71_3okyMYU0",
        "outputId": "7cdc510a-a0b0-45a5-872a-d4912ad78014"
      },
      "source": [
        "sns.distplot([len(x) for x in train_sentences])"
      ],
      "execution_count": null,
      "outputs": [
        {
          "output_type": "stream",
          "text": [
            "/usr/local/lib/python3.6/dist-packages/seaborn/distributions.py:2551: FutureWarning: `distplot` is a deprecated function and will be removed in a future version. Please adapt your code to use either `displot` (a figure-level function with similar flexibility) or `histplot` (an axes-level function for histograms).\n",
            "  warnings.warn(msg, FutureWarning)\n"
          ],
          "name": "stderr"
        },
        {
          "output_type": "execute_result",
          "data": {
            "text/plain": [
              "<matplotlib.axes._subplots.AxesSubplot at 0x7f497a3f5be0>"
            ]
          },
          "metadata": {
            "tags": []
          },
          "execution_count": 230
        },
        {
          "output_type": "display_data",
          "data": {
            "image/png": "[encoded data removed]",
            "text/plain": [
              "<Figure size 432x288 with 1 Axes>"
            ]
          },
          "metadata": {
            "tags": [],
            "needs_background": "light"
          }
        }
      ]
    },
    {
      "cell_type": "markdown",
      "metadata": {
        "id": "wcJ1tz5WWY7a"
      },
      "source": [
        "Подготовим словарь тегов"
      ]
    },
    {
      "cell_type": "code",
      "metadata": {
        "id": "5_y9Y5uKPvtU"
      },
      "source": [
        "def make_tags_vocab(train_tags=train_tags, test_tags=test_tags, use_bos_eos=False):\n",
        "  united_tags = train_tags + test_tags\n",
        "  all_tags = []\n",
        "  for line in tqdm(united_tags):\n",
        "    for el in line:\n",
        "      all_tags.append(el)\n",
        "  set_tags = set(all_tags) - {'O'}\n",
        "  if use_bos_eos:\n",
        "    tags_vocab = OrderedDict({'<PAD>': 0, '<BOS>': 1, '<EOS>':2, 'O': 3})\n",
        "  else:\n",
        "    tags_vocab = OrderedDict({'<PAD>': 0, 'O': 1})\n",
        "  for word in tqdm(set_tags):\n",
        "    tags_vocab[word] = len(tags_vocab)\n",
        "  return tags_vocab"
      ],
      "execution_count": 122,
      "outputs": []
    },
    {
      "cell_type": "code",
      "metadata": {
        "colab": {
          "base_uri": "https://localhost:8080/"
        },
        "id": "8eadbwpAgDKh",
        "outputId": "9e44252a-82fa-4970-9425-29214ca27a3a"
      },
      "source": [
        "tags_vocab = make_tags_vocab()"
      ],
      "execution_count": 123,
      "outputs": [
        {
          "output_type": "stream",
          "text": [
            "100%|██████████| 17494/17494 [00:00<00:00, 587843.02it/s]\n",
            "100%|██████████| 8/8 [00:00<00:00, 39016.78it/s]\n"
          ],
          "name": "stderr"
        }
      ]
    },
    {
      "cell_type": "code",
      "metadata": {
        "colab": {
          "base_uri": "https://localhost:8080/"
        },
        "id": "_Xc-5AO0RmSC",
        "outputId": "44a4c9e3-e534-49a3-d339-bf3c35725584"
      },
      "source": [
        "tags_vocab"
      ],
      "execution_count": 124,
      "outputs": [
        {
          "output_type": "execute_result",
          "data": {
            "text/plain": [
              "OrderedDict([('<PAD>', 0),\n",
              "             ('O', 1),\n",
              "             ('I-ORG', 2),\n",
              "             ('I-LOC', 3),\n",
              "             ('I-MISC', 4),\n",
              "             ('B-ORG', 5),\n",
              "             ('B-PER', 6),\n",
              "             ('B-LOC', 7),\n",
              "             ('I-PER', 8),\n",
              "             ('B-MISC', 9)])"
            ]
          },
          "metadata": {
            "tags": []
          },
          "execution_count": 124
        }
      ]
    },
    {
      "cell_type": "markdown",
      "metadata": {
        "id": "hFhvI86jWcnh"
      },
      "source": [
        "На основе частотности тегов подготовим их веса (к сожалению, эти веса не дают такого же результата, как искусственно заданные значения, поэтому в дальнейшем я их не использую)"
      ]
    },
    {
      "cell_type": "code",
      "metadata": {
        "id": "J-eXX959W9-n"
      },
      "source": [
        "all_tags = []\n",
        "for line in train_tags+test_tags:\n",
        "  for el in line:\n",
        "    all_tags.append(el)"
      ],
      "execution_count": 125,
      "outputs": []
    },
    {
      "cell_type": "code",
      "metadata": {
        "colab": {
          "base_uri": "https://localhost:8080/"
        },
        "id": "U3V_H0DoQh-Q",
        "outputId": "e1aeccb7-9e3e-442b-a3c6-4aab7db5acd6"
      },
      "source": [
        "count_weights = OrderedDict()\n",
        "for k in tags_vocab.keys():\n",
        "  for tag in tqdm(all_tags):\n",
        "    if tag == k:\n",
        "      if k not in count_weights:\n",
        "        count_weights[k] = 0\n",
        "      else:\n",
        "        count_weights[k] += 1\n"
      ],
      "execution_count": 127,
      "outputs": [
        {
          "output_type": "stream",
          "text": [
            "100%|██████████| 250056/250056 [00:00<00:00, 2976650.45it/s]\n",
            "100%|██████████| 250056/250056 [00:00<00:00, 2347336.07it/s]\n",
            "100%|██████████| 250056/250056 [00:00<00:00, 2879410.51it/s]\n",
            "100%|██████████| 250056/250056 [00:00<00:00, 3086290.11it/s]\n",
            "100%|██████████| 250056/250056 [00:00<00:00, 3115461.84it/s]\n",
            "100%|██████████| 250056/250056 [00:00<00:00, 3119084.51it/s]\n",
            "100%|██████████| 250056/250056 [00:00<00:00, 3087998.45it/s]\n",
            "100%|██████████| 250056/250056 [00:00<00:00, 2863029.90it/s]\n",
            "100%|██████████| 250056/250056 [00:00<00:00, 2808474.83it/s]\n",
            "100%|██████████| 250056/250056 [00:00<00:00, 3097190.41it/s]\n"
          ],
          "name": "stderr"
        }
      ]
    },
    {
      "cell_type": "code",
      "metadata": {
        "colab": {
          "base_uri": "https://localhost:8080/"
        },
        "id": "cA8nrZe8RGex",
        "outputId": "b5b600d1-be48-45ff-970b-b75b274dbb32"
      },
      "source": [
        "count_weights"
      ],
      "execution_count": 128,
      "outputs": [
        {
          "output_type": "execute_result",
          "data": {
            "text/plain": [
              "OrderedDict([('O', 207754),\n",
              "             ('I-ORG', 4585),\n",
              "             ('I-LOC', 1415),\n",
              "             ('I-MISC', 1408),\n",
              "             ('B-ORG', 8035),\n",
              "             ('B-PER', 8217),\n",
              "             ('B-LOC', 8785),\n",
              "             ('I-PER', 5688),\n",
              "             ('B-MISC', 4160)])"
            ]
          },
          "metadata": {
            "tags": []
          },
          "execution_count": 128
        }
      ]
    },
    {
      "cell_type": "code",
      "metadata": {
        "colab": {
          "base_uri": "https://localhost:8080/"
        },
        "id": "7byme4Y-_V2Z",
        "outputId": "2913d195-26bb-4b23-d765-f6c64e45923d"
      },
      "source": [
        "ws = count_weights.values()\n",
        "normedws = [1 - (x / sum(ws)) for x in ws]\n",
        "normedws = [0.0] + normedws\n",
        "normedws"
      ],
      "execution_count": 129,
      "outputs": [
        {
          "output_type": "execute_result",
          "data": {
            "text/plain": [
              "[0.0,\n",
              " 0.16914020164209131,\n",
              " 0.9816634472719129,\n",
              " 0.9943410638799905,\n",
              " 0.99436905861698,\n",
              " 0.9678660411842573,\n",
              " 0.9671381780225318,\n",
              " 0.9648666050782453,\n",
              " 0.9772522765720044,\n",
              " 0.9833631277319864]"
            ]
          },
          "metadata": {
            "tags": []
          },
          "execution_count": 129
        }
      ]
    },
    {
      "cell_type": "markdown",
      "metadata": {
        "id": "vVyzY4xlA-fA"
      },
      "source": [
        "## Векторизация"
      ]
    },
    {
      "cell_type": "markdown",
      "metadata": {
        "id": "s_0CbsBojxqv"
      },
      "source": [
        "В данной работе я пробую fasttext."
      ]
    },
    {
      "cell_type": "code",
      "metadata": {
        "colab": {
          "base_uri": "https://localhost:8080/"
        },
        "id": "BSN0OvERBBhI",
        "outputId": "3aea0eaa-a15b-4489-904b-d7bfa7a4f91f"
      },
      "source": [
        "!wget https://dl.fbaipublicfiles.com/fasttext/vectors-english/wiki-news-300d-1M.vec.zip"
      ],
      "execution_count": 130,
      "outputs": [
        {
          "output_type": "stream",
          "text": [
            "--2020-12-21 18:30:06--  https://dl.fbaipublicfiles.com/fasttext/vectors-english/wiki-news-300d-1M.vec.zip\n",
            "Resolving dl.fbaipublicfiles.com (dl.fbaipublicfiles.com)... 104.22.75.142, 172.67.9.4, 104.22.74.142, ...\n",
            "Connecting to dl.fbaipublicfiles.com (dl.fbaipublicfiles.com)|104.22.75.142|:443... connected.\n",
            "HTTP request sent, awaiting response... 200 OK\n",
            "Length: 681808098 (650M) [application/zip]\n",
            "Saving to: ‘wiki-news-300d-1M.vec.zip.1’\n",
            "\n",
            "wiki-news-300d-1M.v 100%[===================>] 650.22M  26.8MB/s    in 25s     \n",
            "\n",
            "2020-12-21 18:30:32 (25.5 MB/s) - ‘wiki-news-300d-1M.vec.zip.1’ saved [681808098/681808098]\n",
            "\n"
          ],
          "name": "stdout"
        }
      ]
    },
    {
      "cell_type": "code",
      "metadata": {
        "id": "sknuqgZ6Bfh1"
      },
      "source": [
        "def load_embeddings(zip_path, filename, pad_token='<PAD>', max_words=100000, verbose=True):\n",
        "    \n",
        "    vocab = dict()\n",
        "    embeddings = list()\n",
        "\n",
        "    with zipfile.ZipFile(zip_path) as zipped_file:\n",
        "        with zipped_file.open(filename) as file_object:\n",
        "\n",
        "            vocab_size, embedding_dim = file_object.readline().decode('utf-8').strip().split()\n",
        "\n",
        "            vocab_size = int(vocab_size)\n",
        "            embedding_dim = int(embedding_dim)\n",
        "            \n",
        "            max_words = vocab_size if max_words <= 0 else max_words\n",
        "            \n",
        "            vocab[pad_token] = len(vocab)\n",
        "            embeddings.append(np.zeros(embedding_dim))\n",
        "\n",
        "            progress_bar = tqdm(total=max_words, disable=not verbose)\n",
        "\n",
        "            for line in file_object:\n",
        "                parts = line.decode('utf-8').strip().split()\n",
        "\n",
        "                token = ' '.join(parts[:-embedding_dim]).lower()\n",
        "                \n",
        "                if token in vocab:\n",
        "                    continue\n",
        "                \n",
        "                word_vector = np.array(list(map(float, parts[-embedding_dim:])))\n",
        "\n",
        "                vocab[token] = len(vocab)\n",
        "                embeddings.append(word_vector)\n",
        "\n",
        "                progress_bar.update()\n",
        "                \n",
        "                if len(vocab) == max_words:\n",
        "                    break\n",
        "\n",
        "            progress_bar.close()\n",
        "\n",
        "    embeddings = np.stack(embeddings)\n",
        "    \n",
        "    return vocab, embeddings"
      ],
      "execution_count": 132,
      "outputs": []
    },
    {
      "cell_type": "code",
      "metadata": {
        "colab": {
          "base_uri": "https://localhost:8080/"
        },
        "id": "BAsuPspwBii1",
        "outputId": "49351a12-bc2a-41c5-a994-84d025d38a58"
      },
      "source": [
        "embedding_vocab, embeddings = load_embeddings('wiki-news-300d-1M.vec.zip', 'wiki-news-300d-1M.vec')"
      ],
      "execution_count": 134,
      "outputs": [
        {
          "output_type": "stream",
          "text": [
            "100%|█████████▉| 99999/100000 [00:10<00:00, 9914.36it/s]\n"
          ],
          "name": "stderr"
        }
      ]
    },
    {
      "cell_type": "code",
      "metadata": {
        "id": "c2PIIrrVEDs5"
      },
      "source": [
        "embeddings = torch.tensor(embeddings).float()"
      ],
      "execution_count": 135,
      "outputs": []
    },
    {
      "cell_type": "markdown",
      "metadata": {
        "id": "8dJ0zDO5BtO1"
      },
      "source": [
        "## Датасет"
      ]
    },
    {
      "cell_type": "markdown",
      "metadata": {
        "id": "oVNN1TJ9KFQ4"
      },
      "source": [
        "Напишем обработчик данных (свой класс, который наследует торчовый класс Dataset)"
      ]
    },
    {
      "cell_type": "code",
      "metadata": {
        "id": "T5LJQAECy6PN"
      },
      "source": [
        "class NERDataset(Dataset):\n",
        "    \n",
        "    def __init__(self, sentences, tags, text_vocab, tags_vocab, pad_index=0, max_len=40):\n",
        "        super().__init__()\n",
        "        \n",
        "        self.sentences = sentences\n",
        "        self.tags = tags\n",
        "        self.text_vocab = text_vocab\n",
        "        self.tags_vocab = tags_vocab\n",
        "        self.pad_index = pad_index\n",
        "        self.max_len = max_len\n",
        "        \n",
        "    def __len__(self):\n",
        "\n",
        "        return len(self.sentences)\n",
        "    \n",
        "    def get_text_indeces(self, sentence):\n",
        "\n",
        "        return [self.text_vocab[token] for token in sentence if token in self.text_vocab]\n",
        "\n",
        "    def get_tag_indeces(self, tags):\n",
        "\n",
        "        return [self.tags_vocab[tag] for tag in tags]\n",
        "    \n",
        "    def padding(self, sequence):\n",
        "\n",
        "        padds = [self.pad_index] * (self.max_len - len(sequence))\n",
        "        sequence = sequence + padds\n",
        "        return sequence\n",
        "    \n",
        "    def __getitem__(self, index):\n",
        "       \n",
        "        text = self.sentences[index][:self.max_len]      \n",
        "        tag = self.tags[index][:self.max_len]\n",
        "        indeces_of_text = self.get_text_indeces(text)\n",
        "        indeces_of_tag = self.get_tag_indeces(tag)\n",
        "        padded_text = self.padding(indeces_of_text)\n",
        "        padded_tag = self.padding(indeces_of_tag)\n",
        "        converted_text = torch.tensor(padded_text)\n",
        "        converted_tag = torch.tensor(padded_tag)\n",
        "\n",
        "        return converted_text, converted_tag"
      ],
      "execution_count": 136,
      "outputs": []
    },
    {
      "cell_type": "code",
      "metadata": {
        "id": "CUbyycewCd08"
      },
      "source": [
        "train_dataset = NERDataset(sentences=train_sentences, tags=train_tags, text_vocab=embedding_vocab, tags_vocab=tags_vocab)\n",
        "valid_dataset = NERDataset(sentences=test_sentences, tags=test_tags, text_vocab=embedding_vocab, tags_vocab=tags_vocab)\n",
        "\n",
        "train_loader = DataLoader(train_dataset, batch_size=64, shuffle=True)\n",
        "valid_loader = DataLoader(valid_dataset, batch_size=64, shuffle=True)"
      ],
      "execution_count": 137,
      "outputs": []
    },
    {
      "cell_type": "markdown",
      "metadata": {
        "id": "IE0BMH8LBxOA"
      },
      "source": [
        "Проверим, что всё работает, как надо"
      ]
    },
    {
      "cell_type": "code",
      "metadata": {
        "id": "kd1NyrTt6hOW"
      },
      "source": [
        "for x, y in train_loader:\n",
        "    break"
      ],
      "execution_count": 138,
      "outputs": []
    },
    {
      "cell_type": "code",
      "metadata": {
        "colab": {
          "base_uri": "https://localhost:8080/"
        },
        "id": "bWnxxjRp6hhV",
        "outputId": "c57d81ad-98c2-46a1-cbe7-a0b067eb4087"
      },
      "source": [
        "x"
      ],
      "execution_count": 141,
      "outputs": [
        {
          "output_type": "execute_result",
          "data": {
            "text/plain": [
              "tensor([[   35,  1406,     4,  ...,     0,     0,     0],\n",
              "        [27365,    50,    22,  ...,   376,     0,     0],\n",
              "        [ 7279,    27,  1431,  ...,     0,     0,     0],\n",
              "        ...,\n",
              "        [ 6776,   214,  6674,  ...,     0,     0,     0],\n",
              "        [64277, 15901,    13,  ...,     0,     0,     0],\n",
              "        [   44,   138, 26981,  ...,     0,     0,     0]])"
            ]
          },
          "metadata": {
            "tags": []
          },
          "execution_count": 141
        }
      ]
    },
    {
      "cell_type": "code",
      "metadata": {
        "colab": {
          "base_uri": "https://localhost:8080/"
        },
        "id": "YxgepsN2NcNa",
        "outputId": "d3a4a30b-46f8-4b09-ae15-5e0bdbb19bae"
      },
      "source": [
        "y"
      ],
      "execution_count": 142,
      "outputs": [
        {
          "output_type": "execute_result",
          "data": {
            "text/plain": [
              "tensor([[1, 7, 1,  ..., 0, 0, 0],\n",
              "        [6, 1, 6,  ..., 1, 9, 1],\n",
              "        [5, 1, 7,  ..., 0, 0, 0],\n",
              "        ...,\n",
              "        [5, 1, 5,  ..., 0, 0, 0],\n",
              "        [1, 6, 8,  ..., 0, 0, 0],\n",
              "        [1, 1, 1,  ..., 0, 0, 0]])"
            ]
          },
          "metadata": {
            "tags": []
          },
          "execution_count": 142
        }
      ]
    },
    {
      "cell_type": "code",
      "metadata": {
        "colab": {
          "base_uri": "https://localhost:8080/"
        },
        "id": "4oLKVeUTNkd7",
        "outputId": "69467877-f8b2-4ba3-db6c-15e2014600b3"
      },
      "source": [
        "x.shape, y.shape"
      ],
      "execution_count": 143,
      "outputs": [
        {
          "output_type": "execute_result",
          "data": {
            "text/plain": [
              "(torch.Size([64, 40]), torch.Size([64, 40]))"
            ]
          },
          "metadata": {
            "tags": []
          },
          "execution_count": 143
        }
      ]
    },
    {
      "cell_type": "code",
      "metadata": {
        "id": "So_wdfT5v3We"
      },
      "source": [
        "tags_invert_vocab = {v:k for k,v in tags_vocab.items()}\n",
        "embedding_invert_vocab = {v:k for k,v in embedding_vocab.items()}"
      ],
      "execution_count": 145,
      "outputs": []
    },
    {
      "cell_type": "code",
      "metadata": {
        "colab": {
          "base_uri": "https://localhost:8080/"
        },
        "id": "3B-3UB2uCGHJ",
        "outputId": "f23a6e22-1b5b-4ace-f08b-cabaf824fad1"
      },
      "source": [
        "text_x = [embedding_invert_vocab[el] for el in x.numpy()[2]]\n",
        "text_x"
      ],
      "execution_count": 148,
      "outputs": [
        {
          "output_type": "execute_result",
          "data": {
            "text/plain": [
              "['milwaukee',\n",
              " 'at',\n",
              " 'chicago',\n",
              " '<PAD>',\n",
              " '<PAD>',\n",
              " '<PAD>',\n",
              " '<PAD>',\n",
              " '<PAD>',\n",
              " '<PAD>',\n",
              " '<PAD>',\n",
              " '<PAD>',\n",
              " '<PAD>',\n",
              " '<PAD>',\n",
              " '<PAD>',\n",
              " '<PAD>',\n",
              " '<PAD>',\n",
              " '<PAD>',\n",
              " '<PAD>',\n",
              " '<PAD>',\n",
              " '<PAD>',\n",
              " '<PAD>',\n",
              " '<PAD>',\n",
              " '<PAD>',\n",
              " '<PAD>',\n",
              " '<PAD>',\n",
              " '<PAD>',\n",
              " '<PAD>',\n",
              " '<PAD>',\n",
              " '<PAD>',\n",
              " '<PAD>',\n",
              " '<PAD>',\n",
              " '<PAD>',\n",
              " '<PAD>',\n",
              " '<PAD>',\n",
              " '<PAD>',\n",
              " '<PAD>',\n",
              " '<PAD>',\n",
              " '<PAD>',\n",
              " '<PAD>',\n",
              " '<PAD>']"
            ]
          },
          "metadata": {
            "tags": []
          },
          "execution_count": 148
        }
      ]
    },
    {
      "cell_type": "code",
      "metadata": {
        "colab": {
          "base_uri": "https://localhost:8080/"
        },
        "id": "cxJd77PkwLjV",
        "outputId": "1f2eabad-1195-4597-c605-e9222b866cba"
      },
      "source": [
        "text_y = [tags_invert_vocab[el] for el in y.numpy()[2]]\n",
        "text_y"
      ],
      "execution_count": 149,
      "outputs": [
        {
          "output_type": "execute_result",
          "data": {
            "text/plain": [
              "['B-ORG',\n",
              " 'O',\n",
              " 'B-LOC',\n",
              " '<PAD>',\n",
              " '<PAD>',\n",
              " '<PAD>',\n",
              " '<PAD>',\n",
              " '<PAD>',\n",
              " '<PAD>',\n",
              " '<PAD>',\n",
              " '<PAD>',\n",
              " '<PAD>',\n",
              " '<PAD>',\n",
              " '<PAD>',\n",
              " '<PAD>',\n",
              " '<PAD>',\n",
              " '<PAD>',\n",
              " '<PAD>',\n",
              " '<PAD>',\n",
              " '<PAD>',\n",
              " '<PAD>',\n",
              " '<PAD>',\n",
              " '<PAD>',\n",
              " '<PAD>',\n",
              " '<PAD>',\n",
              " '<PAD>',\n",
              " '<PAD>',\n",
              " '<PAD>',\n",
              " '<PAD>',\n",
              " '<PAD>',\n",
              " '<PAD>',\n",
              " '<PAD>',\n",
              " '<PAD>',\n",
              " '<PAD>',\n",
              " '<PAD>',\n",
              " '<PAD>',\n",
              " '<PAD>',\n",
              " '<PAD>',\n",
              " '<PAD>',\n",
              " '<PAD>']"
            ]
          },
          "metadata": {
            "tags": []
          },
          "execution_count": 149
        }
      ]
    },
    {
      "cell_type": "markdown",
      "metadata": {
        "id": "i_Yp-wfN6hv3"
      },
      "source": [
        "## Модель"
      ]
    },
    {
      "cell_type": "code",
      "metadata": {
        "id": "FCy4GZEMJnjT"
      },
      "source": [
        "assert torch.cuda.is_available()\n",
        "device = torch.device('cuda')"
      ],
      "execution_count": 150,
      "outputs": []
    },
    {
      "cell_type": "code",
      "metadata": {
        "id": "zxRwI7iuf35h"
      },
      "source": [
        "class SpatialDropout(torch.nn.Dropout2d):\n",
        "    \n",
        "    def __init__(self, p=0.3):\n",
        "        super().__init__()\n",
        "        self.p = p\n",
        "    \n",
        "    def forward(self, x):\n",
        "        x = x.unsqueeze(2)\n",
        "        x = x.permute(0, 3, 2, 1)\n",
        "        x = super(SpatialDropout, self).forward(x)\n",
        "        x = x.permute(0, 3, 2, 1)\n",
        "        x = x.squeeze(2)\n",
        "        return x"
      ],
      "execution_count": 151,
      "outputs": []
    },
    {
      "cell_type": "code",
      "metadata": {
        "id": "p3_NoBzsf7vT"
      },
      "source": [
        "spatial_dropout = SpatialDropout()"
      ],
      "execution_count": 152,
      "outputs": []
    },
    {
      "cell_type": "code",
      "metadata": {
        "id": "LCtqlG0JbPas"
      },
      "source": [
        "class NERLSTM(torch.nn.Module):\n",
        "    \n",
        "    def __init__(self, embeddings, tags_vocab_size, hidden_dim, num_lstm_layers, spatial_dropout):\n",
        "        \n",
        "        super().__init__()\n",
        "        \n",
        "\n",
        "        self.embedding_layer = nn.Embedding.from_pretrained(embeddings, padding_idx=0, freeze=False)\n",
        "        \n",
        "        self.spatial_dropout = spatial_dropout\n",
        "\n",
        "        self.input_size = embeddings.shape[-1]\n",
        "\n",
        "\n",
        "        self.lstm = torch.nn.LSTM(input_size=self.input_size, \n",
        "                                  hidden_size=hidden_dim,\n",
        "                                  num_layers=num_lstm_layers, \n",
        "                                  batch_first=True,\n",
        "                                  bidirectional=False)\n",
        "  \n",
        "        \n",
        "        self.output_layer = torch.nn.Linear(in_features=hidden_dim,\n",
        "                                            out_features=tags_vocab_size,\n",
        "                                            bias=False)\n",
        "\n",
        "        \n",
        "    def forward(self, x):\n",
        "        \n",
        "        x = self.embedding_layer(x)\n",
        "        x = self.spatial_dropout(x)\n",
        "        x, _ = self.lstm(x)\n",
        "        x = self.output_layer(x)\n",
        "        \n",
        "        return x"
      ],
      "execution_count": 174,
      "outputs": []
    },
    {
      "cell_type": "code",
      "metadata": {
        "colab": {
          "base_uri": "https://localhost:8080/"
        },
        "id": "OThATCnjBwZp",
        "outputId": "a5282e8a-73e9-4ee5-92de-e0fc78ee4927"
      },
      "source": [
        "model = NERLSTM(embeddings=embeddings,\n",
        "                tags_vocab_size=len(tags_vocab),\n",
        "                hidden_dim=128,\n",
        "                num_lstm_layers=4, \n",
        "                spatial_dropout=spatial_dropout)\n",
        "model.to(device)"
      ],
      "execution_count": 158,
      "outputs": [
        {
          "output_type": "execute_result",
          "data": {
            "text/plain": [
              "NERLSTM(\n",
              "  (embedding_layer): Embedding(100000, 300, padding_idx=0)\n",
              "  (spatial_dropout): SpatialDropout(p=0.3, inplace=False)\n",
              "  (lstm): LSTM(300, 128, num_layers=4, batch_first=True)\n",
              "  (output_layer): Linear(in_features=128, out_features=10, bias=False)\n",
              ")"
            ]
          },
          "metadata": {
            "tags": []
          },
          "execution_count": 158
        }
      ]
    },
    {
      "cell_type": "markdown",
      "metadata": {
        "id": "k7Bsj_gr6kSU"
      },
      "source": [
        "## Обучение, оценивание"
      ]
    },
    {
      "cell_type": "code",
      "metadata": {
        "id": "zeApYYCNObXT"
      },
      "source": [
        "def train_model(model, train_loader, optimizer, criterion, n_epoch, weights, clip=3.0):\n",
        "\n",
        "    train_losses = list()\n",
        "\n",
        "    model.train()\n",
        "    \n",
        "    train_progress_bar = tqdm(total=len(train_loader.dataset), desc=f'Epoch: {n_epoch + 1}, train')\n",
        "    \n",
        "    for instance in list(tqdm._instances):\n",
        "      tqdm._decr_instances(instance)\n",
        "\n",
        "    for x, y in train_loader:\n",
        "\n",
        "        x = x.to(device)\n",
        "        y = y.to(device)\n",
        "\n",
        "        optimizer.zero_grad()\n",
        "            \n",
        "        pred = model(x)\n",
        "        \n",
        "        loss = criterion(pred.cpu().view(-1, pred.cpu().size(-1)), y.cpu().view(-1))\n",
        "\n",
        "        loss = loss * weights[y.cpu().view(-1)]\n",
        "        loss = loss.mean()\n",
        "        \n",
        "\n",
        "        loss.backward()\n",
        "        torch.nn.utils.clip_grad_norm_(model.parameters(), clip)\n",
        "        optimizer.step()\n",
        "\n",
        "        train_losses.append(loss.item())\n",
        "\n",
        "        train_progress_bar.set_postfix(train_loss = np.mean(train_losses[-500:]))\n",
        "        train_progress_bar.update(x.shape[0])\n",
        "\n",
        "    train_progress_bar.close()\n",
        "\n",
        "    return train_losses"
      ],
      "execution_count": 176,
      "outputs": []
    },
    {
      "cell_type": "code",
      "metadata": {
        "id": "UDPYADL0Ofmo"
      },
      "source": [
        "def validate_model(model, valid_loader, optimizer, criterion, n_epoch, weights):\n",
        "\n",
        "    valid_losses = []\n",
        "\n",
        "    model.eval()\n",
        "\n",
        "    valid_progress_bar = tqdm(total=len(valid_loader.dataset), desc=f'Epoch: {n_epoch + 1}, validation')\n",
        "\n",
        "    for instance in list(tqdm._instances):\n",
        "      tqdm._decr_instances(instance)\n",
        "\n",
        "    for x, y in valid_loader:\n",
        "\n",
        "        x = x.to(device)\n",
        "        y = y.to(device)\n",
        "\n",
        "        with torch.no_grad():  \n",
        "            pred = model(x)\n",
        "       \n",
        "        loss = criterion(pred.cpu().view(-1, pred.cpu().size(-1)), y.cpu().view(-1))\n",
        "\n",
        "        loss = loss * weights[y.cpu().view(-1)]\n",
        "        loss = loss.mean()\n",
        "\n",
        "        valid_losses.append(loss.item())\n",
        "\n",
        "        valid_progress_bar.set_postfix(valid_loss = np.mean(valid_losses[-500:]))\n",
        "        valid_progress_bar.update(x.shape[0])\n",
        "    \n",
        "    valid_progress_bar.close()\n",
        "\n",
        "    return valid_losses"
      ],
      "execution_count": 177,
      "outputs": []
    },
    {
      "cell_type": "code",
      "metadata": {
        "colab": {
          "base_uri": "https://localhost:8080/"
        },
        "id": "TXYw0csgXM27",
        "outputId": "07bd1156-a61f-449e-93dc-c037203fcf1a"
      },
      "source": [
        "%%time\n",
        "model_params = [x[1] for x in list(filter(lambda x: x[0] != 'embedding_layer.weight', model.named_parameters()))]\n",
        "embedding_params = model.embedding_layer.parameters()\n",
        "best_val_loss = 10.\n",
        "losses = list()\n",
        "val_losses = list()\n",
        "tr_losses = list()\n",
        "\n",
        "weights = torch.tensor([0.0,0.3,0.63,0.63,0.63,0.63,0.63,0.63,0.63,0.63])\n",
        "# weights = torch.tensor(normedws)\n",
        "\n",
        "criterion = nn.CrossEntropyLoss(weight=weights, reduction='none', ignore_index=0)\n",
        "optimizer = torch.optim.Adam(params=[{'params': embedding_params, 'lr': 0.0001}, {'params': model_params, 'lr': 0.0001}])\n",
        "scheduler = StepLR(optimizer, step_size=5, gamma=0.1)\n",
        "\n",
        "for n_epoch in range(30):\n",
        "\n",
        "  epoch_train_losses = train_model(model, train_loader, optimizer, criterion, n_epoch, weights)\n",
        "  epoch_valid_losses = validate_model(model, valid_loader, optimizer, criterion, n_epoch, weights)\n",
        "  \n",
        "  for l in epoch_train_losses:\n",
        "    losses.append(l)\n",
        "\n",
        "  mean_epoch_val_loss = np.mean(epoch_valid_losses)\n",
        "  mean_epoch_train_loss = np.mean(epoch_train_losses)\n",
        "\n",
        "  val_losses.append(mean_epoch_val_loss)\n",
        "  tr_losses.append(mean_epoch_train_loss)\n",
        "\n",
        "  scheduler.step()\n",
        "\n",
        "  if mean_epoch_val_loss < best_val_loss:\n",
        "    best_val_loss = mean_epoch_val_loss\n",
        "    torch.save(model.state_dict(), f'best_model_state_dict.pth')\n",
        "    torch.save(optimizer.state_dict(), 'best_optimizer_state_dict.pth')\n",
        "  else:\n",
        "    # print(f'Early stopping on epoch {n_epoch+1}')\n",
        "    torch.save(model.state_dict(), f'last_model_state_dict.pth')\n",
        "    torch.save(optimizer.state_dict(), 'last_optimizer_state_dict.pth')\n",
        "    # break"
      ],
      "execution_count": 159,
      "outputs": [
        {
          "output_type": "stream",
          "text": [
            "Epoch: 1, train: 100%|██████████| 14041/14041 [00:04<00:00, 2829.40it/s, train_loss=0.0914]\n",
            "Epoch: 1, validation: 100%|██████████| 3453/3453 [00:00<00:00, 7289.82it/s, valid_loss=0.0782]\n",
            "/usr/local/lib/python3.6/dist-packages/torch/optim/lr_scheduler.py:136: UserWarning: Detected call of `lr_scheduler.step()` before `optimizer.step()`. In PyTorch 1.1.0 and later, you should call them in the opposite order: `optimizer.step()` before `lr_scheduler.step()`.  Failure to do this will result in PyTorch skipping the first value of the learning rate schedule. See more details at https://pytorch.org/docs/stable/optim.html#how-to-adjust-learning-rate\n",
            "  \"https://pytorch.org/docs/stable/optim.html#how-to-adjust-learning-rate\", UserWarning)\n",
            "Epoch: 2, train: 100%|██████████| 14041/14041 [00:04<00:00, 2811.04it/s, train_loss=0.0812]\n",
            "Epoch: 2, validation: 100%|██████████| 3453/3453 [00:00<00:00, 7306.59it/s, valid_loss=0.0765]\n",
            "Epoch: 3, train: 100%|██████████| 14041/14041 [00:05<00:00, 2763.03it/s, train_loss=0.0785]\n",
            "Epoch: 3, validation: 100%|██████████| 3453/3453 [00:00<00:00, 7584.99it/s, valid_loss=0.0708]\n",
            "Epoch: 4, train: 100%|██████████| 14041/14041 [00:04<00:00, 2810.23it/s, train_loss=0.0684]\n",
            "Epoch: 4, validation: 100%|██████████| 3453/3453 [00:00<00:00, 7542.28it/s, valid_loss=0.0621]\n",
            "Epoch: 5, train: 100%|██████████| 14041/14041 [00:05<00:00, 2729.15it/s, train_loss=0.0618]\n",
            "Epoch: 5, validation: 100%|██████████| 3453/3453 [00:00<00:00, 6320.70it/s, valid_loss=0.0584]\n",
            "Epoch: 6, train: 100%|██████████| 14041/14041 [00:05<00:00, 2761.89it/s, train_loss=0.0577]\n",
            "Epoch: 6, validation: 100%|██████████| 3453/3453 [00:00<00:00, 7612.87it/s, valid_loss=0.0554]\n",
            "Epoch: 7, train: 100%|██████████| 14041/14041 [00:05<00:00, 2808.01it/s, train_loss=0.0542]\n",
            "Epoch: 7, validation: 100%|██████████| 3453/3453 [00:00<00:00, 7446.08it/s, valid_loss=0.0529]\n",
            "Epoch: 8, train: 100%|██████████| 14041/14041 [00:05<00:00, 2755.61it/s, train_loss=0.0507]\n",
            "Epoch: 8, validation: 100%|██████████| 3453/3453 [00:00<00:00, 7491.96it/s, valid_loss=0.0497]\n",
            "Epoch: 9, train: 100%|██████████| 14041/14041 [00:05<00:00, 2786.86it/s, train_loss=0.0475]\n",
            "Epoch: 9, validation: 100%|██████████| 3453/3453 [00:00<00:00, 6543.65it/s, valid_loss=0.0476]\n",
            "Epoch: 10, train: 100%|██████████| 14041/14041 [00:04<00:00, 2827.41it/s, train_loss=0.0446]\n",
            "Epoch: 10, validation: 100%|██████████| 3453/3453 [00:00<00:00, 7339.90it/s, valid_loss=0.0463]\n",
            "Epoch: 11, train: 100%|██████████| 14041/14041 [00:05<00:00, 2770.43it/s, train_loss=0.0423]\n",
            "Epoch: 11, validation: 100%|██████████| 3453/3453 [00:00<00:00, 7018.77it/s, valid_loss=0.0449]\n",
            "Epoch: 12, train: 100%|██████████| 14041/14041 [00:05<00:00, 2794.23it/s, train_loss=0.0404]\n",
            "Epoch: 12, validation: 100%|██████████| 3453/3453 [00:00<00:00, 7359.12it/s, valid_loss=0.0439]\n",
            "Epoch: 13, train: 100%|██████████| 14041/14041 [00:05<00:00, 2798.43it/s, train_loss=0.0386]\n",
            "Epoch: 13, validation: 100%|██████████| 3453/3453 [00:00<00:00, 6625.38it/s, valid_loss=0.0428]\n",
            "Epoch: 14, train: 100%|██████████| 14041/14041 [00:04<00:00, 2811.32it/s, train_loss=0.0371]\n",
            "Epoch: 14, validation: 100%|██████████| 3453/3453 [00:00<00:00, 7078.64it/s, valid_loss=0.042]\n",
            "Epoch: 15, train: 100%|██████████| 14041/14041 [00:05<00:00, 2782.89it/s, train_loss=0.0354]\n",
            "Epoch: 15, validation: 100%|██████████| 3453/3453 [00:00<00:00, 6887.83it/s, valid_loss=0.041]\n",
            "Epoch: 16, train: 100%|██████████| 14041/14041 [00:05<00:00, 2727.18it/s, train_loss=0.0336]\n",
            "Epoch: 16, validation: 100%|██████████| 3453/3453 [00:00<00:00, 7376.35it/s, valid_loss=0.0402]\n",
            "Epoch: 17, train: 100%|██████████| 14041/14041 [00:05<00:00, 2786.56it/s, train_loss=0.0321]\n",
            "Epoch: 17, validation: 100%|██████████| 3453/3453 [00:00<00:00, 7709.05it/s, valid_loss=0.0392]\n",
            "Epoch: 18, train: 100%|██████████| 14041/14041 [00:05<00:00, 2731.18it/s, train_loss=0.0306]\n",
            "Epoch: 18, validation: 100%|██████████| 3453/3453 [00:00<00:00, 7416.89it/s, valid_loss=0.0385]\n",
            "Epoch: 19, train: 100%|██████████| 14041/14041 [00:05<00:00, 2782.72it/s, train_loss=0.0293]\n",
            "Epoch: 19, validation: 100%|██████████| 3453/3453 [00:00<00:00, 7218.53it/s, valid_loss=0.0388]\n",
            "Epoch: 20, train: 100%|██████████| 14041/14041 [00:05<00:00, 2790.97it/s, train_loss=0.0283]\n",
            "Epoch: 20, validation: 100%|██████████| 3453/3453 [00:00<00:00, 7237.93it/s, valid_loss=0.0368]\n",
            "Epoch: 21, train: 100%|██████████| 14041/14041 [00:05<00:00, 2735.08it/s, train_loss=0.0271]\n",
            "Epoch: 21, validation: 100%|██████████| 3453/3453 [00:00<00:00, 7028.72it/s, valid_loss=0.0375]\n",
            "Epoch: 22, train: 100%|██████████| 14041/14041 [00:05<00:00, 2738.91it/s, train_loss=0.0263]\n",
            "Epoch: 22, validation: 100%|██████████| 3453/3453 [00:00<00:00, 7369.51it/s, valid_loss=0.0373]\n",
            "Epoch: 23, train: 100%|██████████| 14041/14041 [00:05<00:00, 2800.82it/s, train_loss=0.0253]\n",
            "Epoch: 23, validation: 100%|██████████| 3453/3453 [00:00<00:00, 7187.49it/s, valid_loss=0.0372]\n",
            "Epoch: 24, train: 100%|██████████| 14041/14041 [00:05<00:00, 2747.05it/s, train_loss=0.0247]\n",
            "Epoch: 24, validation: 100%|██████████| 3453/3453 [00:00<00:00, 7011.04it/s, valid_loss=0.0372]\n",
            "Epoch: 25, train: 100%|██████████| 14041/14041 [00:05<00:00, 2744.47it/s, train_loss=0.0238]\n",
            "Epoch: 25, validation: 100%|██████████| 3453/3453 [00:00<00:00, 7539.31it/s, valid_loss=0.0374]\n",
            "Epoch: 26, train: 100%|██████████| 14041/14041 [00:05<00:00, 2763.50it/s, train_loss=0.0231]\n",
            "Epoch: 26, validation: 100%|██████████| 3453/3453 [00:00<00:00, 6939.04it/s, valid_loss=0.0374]\n",
            "Epoch: 27, train: 100%|██████████| 14041/14041 [00:05<00:00, 2678.68it/s, train_loss=0.0226]\n",
            "Epoch: 27, validation: 100%|██████████| 3453/3453 [00:00<00:00, 6330.72it/s, valid_loss=0.0384]\n",
            "Epoch: 28, train: 100%|██████████| 14041/14041 [00:05<00:00, 2794.92it/s, train_loss=0.022]\n",
            "Epoch: 28, validation: 100%|██████████| 3453/3453 [00:00<00:00, 7495.07it/s, valid_loss=0.0368]\n",
            "Epoch: 29, train: 100%|██████████| 14041/14041 [00:05<00:00, 2746.57it/s, train_loss=0.021]\n",
            "Epoch: 29, validation: 100%|██████████| 3453/3453 [00:00<00:00, 7138.74it/s, valid_loss=0.0385]\n",
            "Epoch: 30, train: 100%|██████████| 14041/14041 [00:05<00:00, 2773.12it/s, train_loss=0.0207]\n",
            "Epoch: 30, validation: 100%|██████████| 3453/3453 [00:00<00:00, 7326.14it/s, valid_loss=0.0379]\n"
          ],
          "name": "stderr"
        },
        {
          "output_type": "stream",
          "text": [
            "CPU times: user 2min 43s, sys: 35.2 s, total: 3min 18s\n",
            "Wall time: 4min 13s\n"
          ],
          "name": "stdout"
        }
      ]
    },
    {
      "cell_type": "markdown",
      "metadata": {
        "id": "4dEw5qAK6rqW"
      },
      "source": [
        "## Оценка модели"
      ]
    },
    {
      "cell_type": "markdown",
      "metadata": {
        "id": "A87isMI2Blun"
      },
      "source": [
        "Лучший результат со значениями\n",
        "```python\n",
        "weights = torch.tensor([0.0,0.3,0.63,0.63,0.63,0.63,0.63,0.63,0.63,0.63])\n",
        "num_lstm_layers=4\n",
        "```"
      ]
    },
    {
      "cell_type": "code",
      "metadata": {
        "colab": {
          "base_uri": "https://localhost:8080/"
        },
        "id": "dUgYlTeJaiwy",
        "outputId": "b6a76f19-176e-405c-9567-8a9021caf5d2"
      },
      "source": [
        "model.load_state_dict(torch.load('best_model_state_dict.pth'))"
      ],
      "execution_count": 165,
      "outputs": [
        {
          "output_type": "execute_result",
          "data": {
            "text/plain": [
              "<All keys matched successfully>"
            ]
          },
          "metadata": {
            "tags": []
          },
          "execution_count": 165
        }
      ]
    },
    {
      "cell_type": "markdown",
      "metadata": {
        "id": "ALzPQne0OtJS"
      },
      "source": [
        "### Графики и значения лоссов"
      ]
    },
    {
      "cell_type": "code",
      "metadata": {
        "id": "n0u9RVPf6uIE"
      },
      "source": [
        "def show_losses_graph(losses, training=True, epoch=True):\n",
        "  plt.figure(figsize=(7, 7))\n",
        "  plt.plot(losses)\n",
        "  plt.grid()\n",
        "  if training:\n",
        "    plt.title('Training process')\n",
        "  else:\n",
        "    plt.title('Validation process')\n",
        "  if epoch:\n",
        "    plt.xlabel('Epochs')\n",
        "  else:\n",
        "    plt.xlabel('Iterations')\n",
        "  plt.ylabel('Loss function')"
      ],
      "execution_count": 180,
      "outputs": []
    },
    {
      "cell_type": "code",
      "metadata": {
        "colab": {
          "base_uri": "https://localhost:8080/",
          "height": 458
        },
        "id": "swaCc-M-XMt1",
        "outputId": "54671d2f-cdbf-4176-a5c2-433692527c83"
      },
      "source": [
        "show_losses_graph(losses, epoch=False)"
      ],
      "execution_count": 160,
      "outputs": [
        {
          "output_type": "display_data",
          "data": {
            "image/png": "[encoded data removed]",
            "text/plain": [
              "<Figure size 504x504 with 1 Axes>"
            ]
          },
          "metadata": {
            "tags": [],
            "needs_background": "light"
          }
        }
      ]
    },
    {
      "cell_type": "code",
      "metadata": {
        "colab": {
          "base_uri": "https://localhost:8080/",
          "height": 458
        },
        "id": "zj1V34XQXN1X",
        "outputId": "75d2917b-27db-4b08-b802-283f6e1e01b1"
      },
      "source": [
        "show_losses_graph(tr_losses)"
      ],
      "execution_count": 161,
      "outputs": [
        {
          "output_type": "display_data",
          "data": {
            "image/png": "[encoded data removed]",
            "text/plain": [
              "<Figure size 504x504 with 1 Axes>"
            ]
          },
          "metadata": {
            "tags": [],
            "needs_background": "light"
          }
        }
      ]
    },
    {
      "cell_type": "code",
      "metadata": {
        "colab": {
          "base_uri": "https://localhost:8080/",
          "height": 458
        },
        "id": "IFtUsqQQXOKG",
        "outputId": "8dec957e-a138-4e5d-d045-0a67f0ffa637"
      },
      "source": [
        "show_losses_graph(val_losses, training=False)"
      ],
      "execution_count": 162,
      "outputs": [
        {
          "output_type": "display_data",
          "data": {
            "image/png": "[encoded data removed]",
            "text/plain": [
              "<Figure size 504x504 with 1 Axes>"
            ]
          },
          "metadata": {
            "tags": [],
            "needs_background": "light"
          }
        }
      ]
    },
    {
      "cell_type": "code",
      "metadata": {
        "colab": {
          "base_uri": "https://localhost:8080/"
        },
        "id": "_aurIlENX72b",
        "outputId": "29cf1830-c314-4ec5-ac19-c689a507b019"
      },
      "source": [
        "# Лосс на трейне\n",
        "np.mean(tr_losses)"
      ],
      "execution_count": 163,
      "outputs": [
        {
          "output_type": "execute_result",
          "data": {
            "text/plain": [
              "0.040674534431856244"
            ]
          },
          "metadata": {
            "tags": []
          },
          "execution_count": 163
        }
      ]
    },
    {
      "cell_type": "code",
      "metadata": {
        "colab": {
          "base_uri": "https://localhost:8080/"
        },
        "id": "3BD1El_qX9cZ",
        "outputId": "e27a100d-c06f-4fa0-9fc4-d92598e62a0d"
      },
      "source": [
        "# Лосс на тесте\n",
        "np.mean(val_losses)"
      ],
      "execution_count": 164,
      "outputs": [
        {
          "output_type": "execute_result",
          "data": {
            "text/plain": [
              "0.046064005303484055"
            ]
          },
          "metadata": {
            "tags": []
          },
          "execution_count": 164
        }
      ]
    },
    {
      "cell_type": "markdown",
      "metadata": {
        "id": "iD09h6CnOvJ-"
      },
      "source": [
        "### Значение f-меры"
      ]
    },
    {
      "cell_type": "code",
      "metadata": {
        "colab": {
          "base_uri": "https://localhost:8080/"
        },
        "id": "9vTqu0QjYkzZ",
        "outputId": "d38cc387-7e96-48da-ae8a-325dd2a5ff50"
      },
      "source": [
        "%%time\n",
        "model.eval()\n",
        "y_true = list()\n",
        "y_pred = list()\n",
        "for x, y in tqdm(valid_loader):\n",
        "  x = x.to(device)\n",
        "  y = y.to(device)\n",
        "  with torch.no_grad():\n",
        "    pred = model.forward(x)\n",
        "    y_pred.append(pred.argmax(dim=-1).detach().cpu().numpy().tolist())\n",
        "    y_true.append(y.cpu().numpy().tolist())"
      ],
      "execution_count": 166,
      "outputs": [
        {
          "output_type": "stream",
          "text": [
            "100%|██████████| 54/54 [00:00<00:00, 172.64it/s]"
          ],
          "name": "stderr"
        },
        {
          "output_type": "stream",
          "text": [
            "CPU times: user 308 ms, sys: 9.33 ms, total: 317 ms\n",
            "Wall time: 323 ms\n"
          ],
          "name": "stdout"
        },
        {
          "output_type": "stream",
          "text": [
            "\n"
          ],
          "name": "stderr"
        }
      ]
    },
    {
      "cell_type": "code",
      "metadata": {
        "id": "AklkGATTYvEV"
      },
      "source": [
        "trues = []\n",
        "predictions = []\n",
        "count_tags = 0\n",
        "tags = []\n",
        "for batch_true, batch_pred in zip(y_true, y_pred):\n",
        "  for sentence_true, sentence_pred in zip(batch_true, batch_pred):\n",
        "    for token_true, token_pred in zip(sentence_true, sentence_pred):\n",
        "      if token_true != 0:\n",
        "        if token_pred != tags_vocab['O']:\n",
        "          count_tags+=1\n",
        "          tags.append(tags_invert_vocab[token_pred])\n",
        "        trues.append(token_true)\n",
        "        predictions.append(token_pred)\n"
      ],
      "execution_count": 167,
      "outputs": []
    },
    {
      "cell_type": "code",
      "metadata": {
        "colab": {
          "base_uri": "https://localhost:8080/"
        },
        "id": "d7Mzr-oBZ7f1",
        "outputId": "251565c2-4a64-48e4-d285-9ebc9c45bfb3"
      },
      "source": [
        "count_tags"
      ],
      "execution_count": 168,
      "outputs": [
        {
          "output_type": "execute_result",
          "data": {
            "text/plain": [
              "9654"
            ]
          },
          "metadata": {
            "tags": []
          },
          "execution_count": 168
        }
      ]
    },
    {
      "cell_type": "code",
      "metadata": {
        "colab": {
          "base_uri": "https://localhost:8080/"
        },
        "id": "NHq5GCQIaANZ",
        "outputId": "1bc6aa92-79a6-41b2-af88-6ff5a0c8e6ea"
      },
      "source": [
        "trues[:20]"
      ],
      "execution_count": 191,
      "outputs": [
        {
          "output_type": "execute_result",
          "data": {
            "text/plain": [
              "[1, 1, 7, 1, 7, 1, 1, 1, 1, 1, 1, 1, 1, 1, 1, 1, 1, 1, 1, 1]"
            ]
          },
          "metadata": {
            "tags": []
          },
          "execution_count": 191
        }
      ]
    },
    {
      "cell_type": "code",
      "metadata": {
        "colab": {
          "base_uri": "https://localhost:8080/"
        },
        "id": "7e7qo6lHaBm4",
        "outputId": "c728f272-3d01-4733-b8b7-81234de8649d"
      },
      "source": [
        "predictions[:20]"
      ],
      "execution_count": 192,
      "outputs": [
        {
          "output_type": "execute_result",
          "data": {
            "text/plain": [
              "[1, 1, 7, 1, 7, 1, 1, 1, 1, 1, 1, 1, 1, 1, 1, 1, 1, 1, 1, 1]"
            ]
          },
          "metadata": {
            "tags": []
          },
          "execution_count": 192
        }
      ]
    },
    {
      "cell_type": "code",
      "metadata": {
        "colab": {
          "base_uri": "https://localhost:8080/"
        },
        "id": "hQt0LrG5Yr26",
        "outputId": "ffd4d318-0a82-41f0-d559-25d7a8854ca8"
      },
      "source": [
        "f1_score(trues, predictions, average='micro')"
      ],
      "execution_count": 194,
      "outputs": [
        {
          "output_type": "execute_result",
          "data": {
            "text/plain": [
              "0.8582259619598562"
            ]
          },
          "metadata": {
            "tags": []
          },
          "execution_count": 194
        }
      ]
    },
    {
      "cell_type": "code",
      "metadata": {
        "colab": {
          "base_uri": "https://localhost:8080/"
        },
        "id": "yRzCyC-fz2zE",
        "outputId": "b4997efb-3049-4fde-d274-2e0a404a72ac"
      },
      "source": [
        "f1_score(trues, predictions, average='macro')"
      ],
      "execution_count": 218,
      "outputs": [
        {
          "output_type": "execute_result",
          "data": {
            "text/plain": [
              "0.561590145597014"
            ]
          },
          "metadata": {
            "tags": []
          },
          "execution_count": 218
        }
      ]
    },
    {
      "cell_type": "code",
      "metadata": {
        "colab": {
          "base_uri": "https://localhost:8080/"
        },
        "id": "Fdgp0c1GY3Ee",
        "outputId": "6e0efacf-afb4-4e5d-dfef-2b492e204b3c"
      },
      "source": [
        "print(classification_report(trues, predictions))"
      ],
      "execution_count": 193,
      "outputs": [
        {
          "output_type": "stream",
          "text": [
            "              precision    recall  f1-score   support\n",
            "\n",
            "           1       0.96      0.91      0.93     37581\n",
            "           2       0.39      0.53      0.45       860\n",
            "           3       0.49      0.52      0.50       256\n",
            "           4       0.34      0.44      0.39       251\n",
            "           5       0.46      0.58      0.51      1701\n",
            "           6       0.56      0.61      0.58      1561\n",
            "           7       0.53      0.69      0.60      1616\n",
            "           8       0.57      0.61      0.59      1096\n",
            "           9       0.48      0.51      0.50       714\n",
            "\n",
            "    accuracy                           0.86     45636\n",
            "   macro avg       0.53      0.60      0.56     45636\n",
            "weighted avg       0.87      0.86      0.87     45636\n",
            "\n"
          ],
          "name": "stdout"
        }
      ]
    },
    {
      "cell_type": "markdown",
      "metadata": {
        "id": "ZJsx912HvTTv"
      },
      "source": [
        "### Пример предсказания"
      ]
    },
    {
      "cell_type": "code",
      "metadata": {
        "colab": {
          "base_uri": "https://localhost:8080/"
        },
        "id": "Jr8f73yGs7Pj",
        "outputId": "4c49d559-89b1-48ce-d1bd-e44d77ce73ea"
      },
      "source": [
        "import nltk\n",
        "nltk.download('punkt')\n",
        "from nltk.tokenize import WordPunctTokenizer\n",
        "tokenizer = WordPunctTokenizer().tokenize"
      ],
      "execution_count": 199,
      "outputs": [
        {
          "output_type": "stream",
          "text": [
            "[nltk_data] Downloading package punkt to /root/nltk_data...\n",
            "[nltk_data]   Unzipping tokenizers/punkt.zip.\n"
          ],
          "name": "stdout"
        }
      ]
    },
    {
      "cell_type": "code",
      "metadata": {
        "colab": {
          "base_uri": "https://localhost:8080/"
        },
        "id": "uqz8TydksmO9",
        "outputId": "22c2a774-5aee-4506-cd21-434d2e6b0456"
      },
      "source": [
        "example_text = \"Harry Potter is a series of seven fantasy novels written by British author Joanne Rowling\"\n",
        "example = tokenizer(example_text.lower())\n",
        "example_ids = [embedding_vocab[token] for token in example if token in embedding_vocab]\n",
        "padds = [0] * (40 - len(example_ids))\n",
        "example_padds = example_ids + padds\n",
        "example_tensor = torch.tensor(example_padds)\n",
        "example_tensor = torch.unsqueeze(example_tensor,0)\n",
        " \n",
        "preds = []\n",
        "with torch.no_grad():\n",
        "  pred = model.forward(example_tensor.to(device))\n",
        "  preds.append(pred.argmax(dim=-1).detach().cpu().numpy().tolist())\n",
        "predicted_tags = [tags_invert_vocab[i] for i in preds[0][0]]\n",
        "words = [embedding_invert_vocab[token] for token in example_ids if token in embedding_invert_vocab]\n",
        "\n",
        "for w,t in zip(words, predicted_tags):\n",
        "  print(w,t)"
      ],
      "execution_count": 217,
      "outputs": [
        {
          "output_type": "stream",
          "text": [
            "harry B-PER\n",
            "potter I-PER\n",
            "is O\n",
            "a O\n",
            "series O\n",
            "of O\n",
            "seven O\n",
            "fantasy O\n",
            "novels O\n",
            "written O\n",
            "by O\n",
            "british B-MISC\n",
            "author B-MISC\n",
            "joanne B-PER\n",
            "rowling B-PER\n"
          ],
          "name": "stdout"
        }
      ]
    }
  ]
}